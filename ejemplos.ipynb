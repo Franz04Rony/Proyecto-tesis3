{
 "cells": [
  {
   "cell_type": "markdown",
   "metadata": {},
   "source": [
    "# Ejemplos de grafos con pocos nodos y aristas"
   ]
  },
  {
   "cell_type": "markdown",
   "metadata": {},
   "source": [
    "Se utilizaron estos grafos para corroborar la veracidad de las soluciones de la implementación de A* y Dijkstra."
   ]
  },
  {
   "cell_type": "code",
   "execution_count": null,
   "metadata": {},
   "outputs": [],
   "source": [
    "g = Graph()\n",
    "g.agregar_vertice(1, 0, 0, 0)\n",
    "g.agregar_vertice(2, 0, 0, 1)\n",
    "g.agregar_vertice(3, 0, 0, 2)\n",
    "g.agregar_vertice(4, 0, 0, 3)\n",
    "g.agregar_vertice(5, 0, 0, 4)\n",
    "#source, target, longitud de la arista\n",
    "g.agregar_arista(1,2,1)\n",
    "g.agregar_arista(1,4,3)\n",
    "g.agregar_arista(2,4,1)\n",
    "g.agregar_arista(2,3,6)\n",
    "g.agregar_arista(4,5,5)\n",
    "g.agregar_arista(3,5,2)\n",
    "\n",
    "distancia, camino_min = dijkstra(g, g.obtener_vertice(1), g.obtener_vertice(5)) \n",
    "\n",
    "print(\"Distancia mínima: \", distancia)\n",
    "print(\"Camino:\", camino_min)"
   ]
  },
  {
   "cell_type": "code",
   "execution_count": null,
   "metadata": {},
   "outputs": [],
   "source": [
    "g = Graph()\n",
    "g.agregar_vertice(1, 0, 0, 0)\n",
    "g.agregar_vertice(2, 0, 0, 1)\n",
    "g.agregar_vertice(3, 0, 0, 2)\n",
    "g.agregar_vertice(4, 0, 0, 3)\n",
    "g.agregar_vertice(5, 0, 0, 4)\n",
    "g.agregar_vertice(6, 0, 0, 5)\n",
    "g.agregar_vertice(7, 0, 0, 6)\n",
    "g.agregar_vertice(8, 0, 0, 7)\n",
    "\n",
    "#source, target, longitud de la arista\n",
    "g.agregar_arista(1,2,3)\n",
    "g.agregar_arista(1,3,3)\n",
    "g.agregar_arista(2,3,1)\n",
    "g.agregar_arista(2,4,2)\n",
    "g.agregar_arista(3,4,5)\n",
    "g.agregar_arista(4,5,1)\n",
    "g.agregar_arista(4,6,3)\n",
    "g.agregar_arista(5,6,4)\n",
    "g.agregar_arista(5,7,6)\n",
    "g.agregar_arista(5,8,8)\n",
    "g.agregar_arista(6,7,3)\n",
    "g.agregar_arista(6,8,7)\n",
    "g.agregar_arista(7,8,3)\n",
    "distancia, camino_min = dijkstra(g, g.obtener_vertice(1), g.obtener_vertice(8)) \n",
    "\n",
    "print(\"Distancia mínima: \", distancia)\n",
    "print(\"Camino:\", camino_min)"
   ]
  },
  {
   "cell_type": "code",
   "execution_count": null,
   "metadata": {},
   "outputs": [],
   "source": [
    "g = Graph()\n",
    "g.agregar_vertice(\"a\", 0, 0, 0)\n",
    "g.agregar_vertice(\"b\", 0, 0, 1)\n",
    "g.agregar_vertice(\"c\", 0, 0, 2)\n",
    "g.agregar_vertice(\"d\", 0, 0, 3)\n",
    "g.agregar_vertice(\"e\", 0, 0, 4)\n",
    "g.agregar_vertice(\"f\", 0, 0, 5)\n",
    "#source, target, longitud de la arista\n",
    "g.agregar_arista(\"a\",\"b\",7)\n",
    "g.agregar_arista(\"a\",\"f\",14)\n",
    "g.agregar_arista(\"a\",\"c\",9)\n",
    "g.agregar_arista(\"b\",\"c\",10)\n",
    "g.agregar_arista(\"b\",\"d\",15)\n",
    "g.agregar_arista(\"c\",\"d\",11)\n",
    "g.agregar_arista(\"c\",\"f\",2)\n",
    "g.agregar_arista(\"d\",\"e\",6)\n",
    "g.agregar_arista(\"f\",\"e\",9)\n",
    "\n",
    "\n",
    "distancia, camino_min = dijkstra(g, g.obtener_vertice(\"a\"), g.obtener_vertice(\"e\")) \n",
    "\n",
    "print(\"Distancia mínima: \", distancia)\n",
    "print(\"Camino:\", camino_min)"
   ]
  }
 ],
 "metadata": {
  "kernelspec": {
   "display_name": "Python 3.9.5 64-bit",
   "language": "python",
   "name": "python3"
  },
  "language_info": {
   "name": "python",
   "version": "3.9.5 (tags/v3.9.5:0a7dcbd, May  3 2021, 17:27:52) [MSC v.1928 64 bit (AMD64)]"
  },
  "orig_nbformat": 4,
  "vscode": {
   "interpreter": {
    "hash": "50c5c2b6e05db9fe8b3433ad8e6dc52eedfaade324407e06c6799762d580ed33"
   }
  }
 },
 "nbformat": 4,
 "nbformat_minor": 2
}
