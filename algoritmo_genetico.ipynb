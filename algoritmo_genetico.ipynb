{
 "cells": [
  {
   "cell_type": "code",
   "execution_count": 1,
   "metadata": {},
   "outputs": [],
   "source": [
    "import pandas as pd\n",
    "import networkx as nx\n",
    "import matplotlib.pyplot as plt\n",
    "import heapq\n",
    "import sys\n",
    "import random\n",
    "import math\n",
    "import time\n",
    "import numpy as np\n",
    "import warnings\n",
    "warnings.filterwarnings(\"ignore\")"
   ]
  },
  {
   "cell_type": "markdown",
   "metadata": {},
   "source": [
    "# Soluciones Iniciales"
   ]
  },
  {
   "cell_type": "code",
   "execution_count": 2,
   "metadata": {},
   "outputs": [],
   "source": [
    "df_aristas = pd.read_csv(\"data-ejemplo/aristas.csv\")\n",
    "df_vertices = pd.read_csv(\"data-ejemplo/nodos.csv\")"
   ]
  },
  {
   "cell_type": "code",
   "execution_count": 3,
   "metadata": {},
   "outputs": [],
   "source": [
    "class Vertex:\n",
    "    def __init__(self, node,lon,lat,cont):\n",
    "      rand = random.randrange(9000,100000)\n",
    "      self.id = node\n",
    "      self.adjacent = {}\n",
    "      # Distancia infinito para todos los nodos (infinito es un random grande)\n",
    "      self.distance = rand\n",
    "      self.distanceG = rand\n",
    "      self.distanceF = rand\n",
    "      # Todos los nodos inician como no visitados    \n",
    "      self.visited = False  \n",
    "      # prev\n",
    "      self.previous = None\n",
    "      #longitud y latitud\n",
    "      self.longitud = lon\n",
    "      self.latitud = lat\n",
    "      self.cont = cont #identificador unico para cada vertice (a parte del id)\n",
    "\n",
    "    def agregar_vecino(self, neighbor, weight=0):\n",
    "      self.adjacent[neighbor] = weight\n",
    "\n",
    "    def obtener_conexiones(self):\n",
    "      return self.adjacent.keys()  \n",
    "\n",
    "    def obtener_id(self):\n",
    "      return self.id\n",
    "\n",
    "    def obtener_peso(self, neighbor):\n",
    "      return self.adjacent[neighbor]\n",
    "\n",
    "    def agregar_distancia(self, dist):\n",
    "      self.distance = dist\n",
    "\n",
    "    def obtener_distancia(self):\n",
    "      return self.distance\n",
    "\n",
    "    def agregar_distanciaG(self, dist):\n",
    "      self.distanceG = dist\n",
    "\n",
    "    def obtener_distanciaG(self):\n",
    "      return self.distanceG\n",
    "\n",
    "    def agregar_distanciaF(self, dist):\n",
    "      self.distanceF = dist\n",
    "\n",
    "    def obtener_distanciaF(self):\n",
    "      return self.distanceF\n",
    "\n",
    "    def obtener_lon(self):\n",
    "      return self.longitud\n",
    "\n",
    "    def obtener_lat(self):\n",
    "      return self.latitud\n",
    "\n",
    "    def agregar_previous(self, prev):\n",
    "      self.previous = prev\n",
    "\n",
    "    def visitado(self):\n",
    "      self.visited = True\n",
    "\n",
    "    def __str__(self):\n",
    "      return str(self.id) + ' adjacent: ' + str([x.id for x in self.adjacent])\n",
    "\n",
    "class Graph:\n",
    "  def __init__(self):\n",
    "    self.vert_dict = {}\n",
    "    self.num_vertices = 0\n",
    "\n",
    "  def __iter__(self):\n",
    "    return iter(self.vert_dict.values())\n",
    "\n",
    "  def agregar_vertice(self, node,lon,lat,cont):\n",
    "    self.num_vertices = self.num_vertices + 1\n",
    "    new_vertex = Vertex(node,lon,lat,cont)\n",
    "    self.vert_dict[node] = new_vertex\n",
    "    return new_vertex\n",
    "\n",
    "  def obtener_vertice(self, n):\n",
    "    if n in self.vert_dict:\n",
    "      return self.vert_dict[n]\n",
    "    else:\n",
    "      return None\n",
    "\n",
    "  def agregar_arista(self, frm, to, cost = 0):\n",
    "    if frm not in self.vert_dict:\n",
    "      self.agregar_vertice(frm)\n",
    "    if to not in self.vert_dict:\n",
    "      self.agregar_vertice(to)\n",
    "\n",
    "    self.vert_dict[frm].agregar_vecino(self.vert_dict[to], cost)\n",
    "    self.vert_dict[to].agregar_vecino(self.vert_dict[frm], cost)\n",
    "\n",
    "  def obtener_vertices(self):\n",
    "    return self.vert_dict.keys()\n",
    "  \n",
    "  def obtener_vertices_nodes(self):\n",
    "    return self.vert_dict.values()\n",
    "\n",
    "  def agregar_previous(self, u):\n",
    "    self.previous = u\n",
    "\n",
    "  def obtener_previous(self, u):\n",
    "    return self.previous"
   ]
  },
  {
   "cell_type": "code",
   "execution_count": 4,
   "metadata": {},
   "outputs": [],
   "source": [
    "#N = Número de individuos\n",
    "# G = Grafo\n",
    "#s = nodo inicial\n",
    "#t = nodo final\n",
    "def esBucle(nodo):\n",
    "  banderas = []\n",
    "  adyacentes = nodo.obtener_conexiones()\n",
    "  for adyacente in adyacentes:\n",
    "    if adyacente.visited == True:\n",
    "      banderas.append(True)\n",
    "    else: banderas.append(False)\n",
    "  if(len(banderas) == 1): return banderas[0]\n",
    "  for i in range(len(banderas) - 1):\n",
    "    if(i == 0):\n",
    "      respuesta = banderas[i] and banderas[i+1]\n",
    "    else:\n",
    "      respuesta = respuesta and banderas[i+1]\n",
    "  return respuesta"
   ]
  },
  {
   "cell_type": "code",
   "execution_count": 5,
   "metadata": {},
   "outputs": [],
   "source": [
    "def poblacionInicial(N, s, t, G):\n",
    "    poblacion = []\n",
    "    for i in range(N):\n",
    "        actual = s\n",
    "        individuo = []\n",
    "        individuo.insert(0,s)\n",
    "        actual.visited = True\n",
    "        while(actual != t):\n",
    "            adyacentes = list(actual.obtener_conexiones())\n",
    "            nodo = random.choice(list(adyacentes))\n",
    "            if(esBucle(nodo) and nodo != t):\n",
    "                nodo.visited = True\n",
    "            if(nodo.visited == False):\n",
    "                if(actual not in individuo):\n",
    "                    individuo.append(actual)\n",
    "                individuo.append(nodo)\n",
    "                nodo.visited = True\n",
    "                actual = nodo\n",
    "            if(esBucle(actual) and actual != t):\n",
    "                actual.visited = True\n",
    "                actual = individuo.pop()\n",
    "        poblacion.append(individuo)\n",
    "        for vertice in list(G.obtener_vertices_nodes()):\n",
    "            vertice.visited = False\n",
    "    return poblacion"
   ]
  },
  {
   "cell_type": "code",
   "execution_count": 6,
   "metadata": {},
   "outputs": [],
   "source": [
    "def f(x):\n",
    "    return x\n",
    "def fitness(individuo):\n",
    "    suma = 0\n",
    "    for i in range(len(individuo) - 1):\n",
    "        suma = suma + individuo[i].obtener_peso(individuo[i+1])\n",
    "    return suma"
   ]
  },
  {
   "cell_type": "markdown",
   "metadata": {},
   "source": []
  },
  {
   "cell_type": "markdown",
   "metadata": {},
   "source": [
    "# Operación de Cruzamiento"
   ]
  },
  {
   "cell_type": "code",
   "execution_count": 7,
   "metadata": {},
   "outputs": [],
   "source": [
    "def crossover(x1, x2, CROSSOVER_RATIO):\n",
    "    if(random.random()<= CROSSOVER_RATIO):\n",
    "        inicio = x1[0]\n",
    "        final = x1[-1]\n",
    "        for i in range(len(x1)):\n",
    "            if x1[i] in x2 and x1[i] is not inicio and x1[i] is not final:\n",
    "                corte1 = i + 1\n",
    "                for j in range(len(x2)):\n",
    "                    if x2[j] == x1[corte1 - 1]:\n",
    "                        corte2 = j + 1\n",
    "                aux = x1.copy()\n",
    "                x1[corte1:] = x2[corte2:]\n",
    "                x2[corte2:] = aux[corte1:]\n",
    "                return x1,x2\n",
    "    return x1,x2"
   ]
  },
  {
   "cell_type": "code",
   "execution_count": 8,
   "metadata": {},
   "outputs": [
    {
     "name": "stdout",
     "output_type": "stream",
     "text": [
      "([1, 5, 4, 6, 7], [1, 3, 4, 6, 7])\n"
     ]
    }
   ],
   "source": [
    "individuo1 = [1, 5, 4, 6, 7]\n",
    "individuo2 = [1, 3, 4, 6, 7]\n",
    "rate = 0.9\n",
    "print(crossover(individuo1, individuo2,rate))"
   ]
  },
  {
   "cell_type": "markdown",
   "metadata": {},
   "source": [
    "# VNS sobre cada individuo"
   ]
  },
  {
   "cell_type": "code",
   "execution_count": 9,
   "metadata": {},
   "outputs": [],
   "source": [
    "def vns(individuo):\n",
    "    return individuo"
   ]
  },
  {
   "cell_type": "markdown",
   "metadata": {},
   "source": [
    "# Selección proporcional para elegir los padres a realizar crossover"
   ]
  },
  {
   "cell_type": "code",
   "execution_count": 10,
   "metadata": {},
   "outputs": [],
   "source": [
    "def operaciones_seleccion_proporcional(cadbin, best, num_padres, CROSSOVER_RATE,MUTATION_RATE):\n",
    "  c = np.ndarray([],dtype=object) #padres\n",
    "  h = [] #hijos\n",
    "  prob = []\n",
    "  #Llevando los valores más bajos arriba, y los más altos abajo, ya que lo que quiero es minimizar\n",
    "  F = []\n",
    "  for i in range(len(best)):\n",
    "    F.append(max(best) - best[i] + 1e-6)\n",
    "  for i in range(len(F)):\n",
    "    prob.append((F[i]+100)/(sum(F)+(100*len(F))))\n",
    "  #num_padres siempre es par\n",
    "  c = np.random.choice(cadbin.copy(),num_padres,replace=False, p=prob)\n",
    "  indice2 = 0\n",
    "  for i in range(int(num_padres/2)):\n",
    "    c1 , c2 = crossover(c[indice2], c[indice2+1],CROSSOVER_RATE)\n",
    "    h.append(c1)\n",
    "    h.append(c2)\n",
    "    indice = indice2 - 1\n",
    "    for k in range(2): #Siempre será 2, pues evaluamos a los dos nuevos hijos\n",
    "      cadbin.append(h[indice+1])\n",
    "      indice = indice+1\n",
    "    indice2 = indice2+2\n",
    "  return cadbin"
   ]
  },
  {
   "cell_type": "markdown",
   "metadata": {},
   "source": [
    "# Selección Elitista para pasar a la siguiente generación"
   ]
  },
  {
   "cell_type": "code",
   "execution_count": 11,
   "metadata": {},
   "outputs": [],
   "source": [
    "def select_prob(cadbin, POBLACION): #Se seleccionan las POBLACION mejores soluciones para la siguiente generacion\n",
    "  pesos = []\n",
    "  probs = []\n",
    "  next_generation = []\n",
    "  for i in range(len(cadbin)):\n",
    "    pesos.append(fitness(cadbin[i]))\n",
    "  \n",
    "  dic = {}\n",
    "  for i in range(len(cadbin)):\n",
    "    dic[tuple(cadbin[i])] = pesos[i]\n",
    "  #dic = dict(zip(cadbin, pesos)) #Convierto mis 2 listas en un diccionario de forma: {\"2847140394\": 2}\n",
    "  dic_ordenado = dict(sorted(dic.items(), key=lambda x: x[1])) #Ordeno según los pesos (valores del diccionario)\n",
    "  next_generation = list(dic_ordenado.keys())\n",
    "  for i in range(len(next_generation)):\n",
    "    next_generation[i] = list(next_generation[i])\n",
    "  return next_generation[0:POBLACION]"
   ]
  },
  {
   "cell_type": "code",
   "execution_count": 44,
   "metadata": {},
   "outputs": [],
   "source": [
    "# l1 = [\"piña\", \"pacai\", \"cereza\", \"manzana\", \"mandarina\"]\n",
    "# l2 = [-34, 12, 10, 5, -18]\n",
    "# dic = dict(zip(l1,l2))\n",
    "# dic_o = dict(sorted(dic.items(), key=lambda x: x[1]))\n",
    "# print(dic_o)"
   ]
  },
  {
   "cell_type": "markdown",
   "metadata": {},
   "source": [
    "# Algoritmo genetico"
   ]
  },
  {
   "cell_type": "markdown",
   "metadata": {},
   "source": [
    "N = Número de individuos de la población inicial. \\\n",
    "Generaciones = número de generaciones. \\\n",
    "num_padres = numero de padres que se utilizarán para realizar crossover.\\\n",
    "s = vértice inicial.\\\n",
    "t = vértice final.\\\n",
    "g = grafo"
   ]
  },
  {
   "cell_type": "code",
   "execution_count": 12,
   "metadata": {},
   "outputs": [],
   "source": [
    "def AG_caminoMinimo(N,GENERACIONES,CROSSOVER_RATE,MUTATION_RATE, num_padres, s, t, g):\n",
    "    cadbin = poblacionInicial(N,g.obtener_vertice(s), g.obtener_vertice(t),g)\n",
    "    POBLACION = N\n",
    "    mejores_por_generacion = []\n",
    "    mejor = []\n",
    "    for j in range(N):\n",
    "        mejor.append(fitness(cadbin[j]))\n",
    "    mejores_por_generacion.append(min(mejor))\n",
    "    ##Inicio del algoritmo\n",
    "    for i in range(GENERACIONES):\n",
    "        best = []\n",
    "        mejor = []\n",
    "        for j  in range(N):\n",
    "            best.append(fitness(cadbin[j]))\n",
    "        cadbin = operaciones_seleccion_proporcional(cadbin, best, num_padres, CROSSOVER_RATE, MUTATION_RATE)\n",
    "        N = len(cadbin)\n",
    "        best = []\n",
    "        for j in range(N):\n",
    "            best.append(fitness(cadbin[j]))\n",
    "        cadbin = select_prob(cadbin, POBLACION)\n",
    "        N = len(cadbin)\n",
    "        for j in range(N):\n",
    "            mejor.append(fitness(cadbin[j]))\n",
    "        mejores_por_generacion.append(min(mejor))\n",
    "    respuestas = []\n",
    "    for i in range(len(cadbin)):\n",
    "        respuestas.append(fitness(cadbin[i]))\n",
    "    print(\"mejor fitness final: \", min(respuestas))\n",
    "    return mejores_por_generacion"
   ]
  },
  {
   "cell_type": "code",
   "execution_count": 13,
   "metadata": {},
   "outputs": [
    {
     "name": "stdout",
     "output_type": "stream",
     "text": [
      "mejor fitness final:  369.1820783620936\n"
     ]
    },
    {
     "data": {
      "image/png": "[encoded data removed]",
      "text/plain": [
       "<Figure size 432x288 with 1 Axes>"
      ]
     },
     "metadata": {
      "needs_background": "light"
     },
     "output_type": "display_data"
    }
   ],
   "source": [
    "g = Graph()\n",
    "for i in range(df_vertices.shape[0]):\n",
    "  g.agregar_vertice(df_vertices[\"id\"][i], df_vertices[\"lon\"][i], df_vertices[\"lat\"][i],i)\n",
    "\n",
    "for j in range(df_aristas.shape[0]):\n",
    "  g.agregar_arista(df_aristas[\"source\"][j],df_aristas[\"target\"][j],df_aristas[\"length\"][j])\n",
    "\n",
    "N = 15\n",
    "num_padres = 6\n",
    "s = 5394544018\n",
    "t = 5394544016\n",
    "\n",
    "CROSSOVER_RATE = 0.8\n",
    "MUTATION_RATE = 0.1\n",
    "GENERACIONES = 50\n",
    "f = AG_caminoMinimo(N, GENERACIONES, CROSSOVER_RATE, MUTATION_RATE, num_padres, s, t, g)\n",
    "\n",
    "plt.title(\"Generaciones vs Fitness\")\n",
    "plt.plot(f)\n",
    "plt.ylabel(\"Fitness\")\n",
    "plt.xlabel(\"Generaciones\")\n",
    "plt.show()"
   ]
  },
  {
   "cell_type": "code",
   "execution_count": 14,
   "metadata": {},
   "outputs": [
    {
     "name": "stdout",
     "output_type": "stream",
     "text": [
      "mejor fitness final:  39258.2898691668\n"
     ]
    },
    {
     "data": {
      "image/png": "[encoded data removed]",
      "text/plain": [
       "<Figure size 432x288 with 1 Axes>"
      ]
     },
     "metadata": {
      "needs_background": "light"
     },
     "output_type": "display_data"
    }
   ],
   "source": [
    "vertices3 = pd.read_csv(\"mapas/mapa3/nodes3.csv\")\n",
    "aristas3 = pd.read_csv(\"mapas/mapa3/edges3.csv\")\n",
    "\n",
    "g = Graph()\n",
    "for i in range(vertices3.shape[0]):\n",
    "  g.agregar_vertice(vertices3[\"id\"][i], vertices3[\"lon\"][i], vertices3[\"lat\"][i],i)\n",
    "\n",
    "for j in range(aristas3.shape[0]):\n",
    "  g.agregar_arista(aristas3[\"source\"][j],aristas3[\"target\"][j],aristas3[\"length\"][j])\n",
    "\n",
    "N = 20\n",
    "num_padres = 8\n",
    "s = 4261133139\n",
    "t = 9740583462\n",
    "\n",
    "CROSSOVER_RATE = 0.8\n",
    "MUTATION_RATE = 0.1\n",
    "GENERACIONES = 50\n",
    "f = AG_caminoMinimo(N, GENERACIONES, CROSSOVER_RATE, MUTATION_RATE, num_padres, s, t, g)\n",
    "\n",
    "plt.title(\"Generaciones vs Fitness\")\n",
    "plt.plot(f)\n",
    "plt.ylabel(\"Fitness\")\n",
    "plt.xlabel(\"Generaciones\")\n",
    "plt.show()"
   ]
  },
  {
   "cell_type": "markdown",
   "metadata": {},
   "source": [
    "# Dijkstra"
   ]
  },
  {
   "cell_type": "code",
   "execution_count": 48,
   "metadata": {},
   "outputs": [],
   "source": [
    "def dijkstra(aGraph, start, target):\n",
    "    '''Algoritmo de Dijkstra'''\n",
    "    # distancia del nodo inicial = 0\n",
    "    start.agregar_distancia(0)\n",
    "\n",
    "    # se colocarán todas las tuplas (distancia,vertice) en una cola de prioridad (Q)\n",
    "    Q = []\n",
    "    dic = {} #diccionario donde almaceno id,vertice\n",
    "    nodos_expandidos = 0\n",
    "    for v in aGraph:\n",
    "        dic[v.cont] = v\n",
    "        Q.append((v.obtener_distancia(),v.cont))\n",
    "    heapq.heapify(Q)\n",
    "    #nodos_open = []\n",
    "    while len(Q):\n",
    "        nodos_expandidos +=1\n",
    "        # Hacemos pop a la tupla (distancia, vertice) con menor distancia de Q\n",
    "        uv = heapq.heappop(Q) #Se asigna y se elimina u de Q\n",
    "        #nodos_open.append(uv)\n",
    "        u = dic.get(uv[1]) #Se obtiene el vértice\n",
    "        u.visitado()\n",
    "        #Sale del algoritmo de Dijkstra\n",
    "        if(u.id == target.id):\n",
    "            u_copia = u\n",
    "            camino = []\n",
    "            camino.append(u_copia.id)\n",
    "            if(u_copia.previous):\n",
    "                while(u_copia.previous):\n",
    "                    camino.append(u_copia.previous.id)\n",
    "                    u_copia = u_copia.previous\n",
    "                #print(u.obtener_distancia(), camino[::-1])\n",
    "                #print(nodos_open)\n",
    "                print(\"longitud camino mínimo: \",len(camino))\n",
    "                print(\"vértices expandidos: \",nodos_expandidos)\n",
    "                eficiencia = len(camino)/nodos_expandidos\n",
    "                print(\"Eficiencia: \", eficiencia)\n",
    "                return u.obtener_distancia(), camino[::-1]\n",
    "\n",
    "        # Para cada vertice vecino v de u :\n",
    "        for v in u.adjacent:\n",
    "            if v.visited:\n",
    "                continue\n",
    "            new_dist = u.obtener_distancia() + u.obtener_peso(v)\n",
    "            \n",
    "            if new_dist < v.obtener_distancia():\n",
    "                v.agregar_distancia(new_dist)\n",
    "                v.agregar_previous(u)  \n",
    "\n",
    "        #Refresh de la cola de prioridad\n",
    "        # 1. Hacemos pop de todos los items\n",
    "        while len(Q):\n",
    "            heapq.heappop(Q)\n",
    "        # 2. Actualizamos todos los vértices no visitados del grafo\n",
    "        dic = {} #diccionario donde almaceno id,vertice\n",
    "        for v in aGraph:\n",
    "            if not v.visited:\n",
    "                dic[v.cont] = v\n",
    "                Q.append((v.obtener_distancia(),v.cont))\n",
    "        heapq.heapify(Q)"
   ]
  },
  {
   "cell_type": "code",
   "execution_count": 49,
   "metadata": {},
   "outputs": [
    {
     "name": "stdout",
     "output_type": "stream",
     "text": [
      "longitud camino mínimo:  5\n",
      "vértices expandidos:  11\n",
      "Eficiencia:  0.45454545454545453\n",
      "Tiempo:  0.0010323524475097656\n",
      "Distancia mínima:  221.12913789532936\n",
      "Camino: [5394544018, 1209248504, 5394544017, 5394544015, 5394544016]\n"
     ]
    }
   ],
   "source": [
    "g = Graph()\n",
    "for i in range(df_vertices.shape[0]):\n",
    "  g.agregar_vertice(df_vertices[\"id\"][i], df_vertices[\"lon\"][i], df_vertices[\"lat\"][i],i)\n",
    "s = 5394544018\n",
    "t = 5394544016\n",
    "\n",
    "for j in range(df_aristas.shape[0]):\n",
    "  g.agregar_arista(df_aristas[\"source\"][j],df_aristas[\"target\"][j],df_aristas[\"length\"][j])\n",
    "inicio = time.time()\n",
    "distancia, camino_min = dijkstra(g, g.obtener_vertice(s), g.obtener_vertice(t)) \n",
    "fin = time.time()\n",
    "print(\"Tiempo: \",fin - inicio) \n",
    "print(\"Distancia mínima: \", distancia)\n",
    "print(\"Camino:\", camino_min)"
   ]
  }
 ],
 "metadata": {
  "kernelspec": {
   "display_name": "Python 3.9.5 64-bit",
   "language": "python",
   "name": "python3"
  },
  "language_info": {
   "codemirror_mode": {
    "name": "ipython",
    "version": 3
   },
   "file_extension": ".py",
   "mimetype": "text/x-python",
   "name": "python",
   "nbconvert_exporter": "python",
   "pygments_lexer": "ipython3",
   "version": "3.9.5 (tags/v3.9.5:0a7dcbd, May  3 2021, 17:27:52) [MSC v.1928 64 bit (AMD64)]"
  },
  "orig_nbformat": 4,
  "vscode": {
   "interpreter": {
    "hash": "50c5c2b6e05db9fe8b3433ad8e6dc52eedfaade324407e06c6799762d580ed33"
   }
  }
 },
 "nbformat": 4,
 "nbformat_minor": 2
}
